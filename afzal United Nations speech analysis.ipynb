{
 "cells": [
  {
   "cell_type": "markdown",
   "metadata": {},
   "source": [
    "    Afzal Patel\n",
    "    \n",
    "    This notebook is an analysis of United Nations Speeches from 1970 to 2015"
   ]
  },
  {
   "cell_type": "code",
   "execution_count": 1,
   "metadata": {},
   "outputs": [
    {
     "name": "stderr",
     "output_type": "stream",
     "text": [
      "[nltk_data] Downloading package punkt to /Users/afzal/nltk_data...\n",
      "[nltk_data]   Package punkt is already up-to-date!\n",
      "[nltk_data] Downloading package stopwords to /Users/afzal/nltk_data...\n",
      "[nltk_data]   Package stopwords is already up-to-date!\n",
      "[nltk_data] Downloading package vader_lexicon to\n",
      "[nltk_data]     /Users/afzal/nltk_data...\n",
      "[nltk_data]   Package vader_lexicon is already up-to-date!\n"
     ]
    },
    {
     "data": {
      "text/plain": [
       "True"
      ]
     },
     "execution_count": 1,
     "metadata": {},
     "output_type": "execute_result"
    }
   ],
   "source": [
    "#required modules and packages\n",
    "\n",
    "import pandas as pd\n",
    "import string\n",
    "from altair import Chart, X, Y, Color, Scale\n",
    "import altair as alt\n",
    "#!pip install nltk\n",
    "import nltk\n",
    "from nltk.corpus import stopwords\n",
    "import wordcloud\n",
    "#from textatistic import Textatistic\n",
    "import matplotlib\n",
    "import matplotlib.pyplot as plt\n",
    "import psycopg2\n",
    "import seaborn as sbn\n",
    "from vega_datasets import data\n",
    "import requests\n",
    "from bs4 import BeautifulSoup\n",
    "import numpy as np\n",
    "from bs4 import BeautifulSoup\n",
    "import ssl\n",
    "# try:\n",
    "#     _create_unverified_https_context = ssl._create_unverified_context\n",
    "# except AttributeError:\n",
    "#     pass\n",
    "# else:\n",
    "#     ssl._create_default_https_context = _create_unverified_https_context\n",
    "matplotlib.style.use('ggplot')  \n",
    "nltk.download('punkt')\n",
    "nltk.download('stopwords')\n",
    "nltk.download('vader_lexicon')"
   ]
  },
  {
   "cell_type": "code",
   "execution_count": 2,
   "metadata": {},
   "outputs": [],
   "source": [
    "undf = pd.read_csv(\"un-general-debates.csv\")\n",
    "undf1 = undf"
   ]
  },
  {
   "cell_type": "markdown",
   "metadata": {},
   "source": [
    "How do speeches in 1970 compare to those in 2015?"
   ]
  },
  {
   "cell_type": "code",
   "execution_count": 3,
   "metadata": {},
   "outputs": [],
   "source": [
    "#1970 Analysis\n",
    "\n",
    "speeches_1970 = undf[undf.year == 1970].copy()\n",
    "speeches_1970['text'] = speeches_1970.text.apply(lambda x: x.lower())\n",
    "speeches_1970['text'] = speeches_1970.text.apply(\n",
    "    lambda x: x.translate(str.maketrans(\n",
    "        string.punctuation, ' '*len(string.punctuation))))\n",
    "speeches_1970['word_list'] = speeches_1970.text.apply(nltk.word_tokenize)"
   ]
  },
  {
   "cell_type": "markdown",
   "metadata": {},
   "source": [
    "Most Common Words in 1970?"
   ]
  },
  {
   "cell_type": "code",
   "execution_count": 4,
   "metadata": {},
   "outputs": [
    {
     "data": {
      "text/plain": [
       "[('the', 25077),\n",
       " ('of', 16265),\n",
       " ('and', 9224),\n",
       " ('to', 9134),\n",
       " ('in', 6668),\n",
       " ('a', 4530),\n",
       " ('that', 3919),\n",
       " ('is', 3322),\n",
       " ('for', 2563),\n",
       " ('which', 2471)]"
      ]
     },
     "execution_count": 4,
     "metadata": {},
     "output_type": "execute_result"
    }
   ],
   "source": [
    "from collections import Counter\n",
    "c = Counter(speeches_1970.word_list.sum())\n",
    "c.most_common(10)"
   ]
  },
  {
   "cell_type": "code",
   "execution_count": 5,
   "metadata": {},
   "outputs": [
    {
     "data": {
      "text/plain": [
       "[('shabby', 1),\n",
       " ('predatory', 1),\n",
       " ('siphoned', 1),\n",
       " ('crop', 1),\n",
       " ('outflow', 1),\n",
       " ('ashes', 1),\n",
       " ('pr', 1),\n",
       " ('bystander', 1),\n",
       " ('antiimperialist', 1),\n",
       " ('earn', 1)]"
      ]
     },
     "execution_count": 5,
     "metadata": {},
     "output_type": "execute_result"
    }
   ],
   "source": [
    "c.most_common()[-10:]"
   ]
  },
  {
   "cell_type": "code",
   "execution_count": 6,
   "metadata": {},
   "outputs": [
    {
     "data": {
      "text/plain": [
       "179"
      ]
     },
     "execution_count": 6,
     "metadata": {},
     "output_type": "execute_result"
    }
   ],
   "source": [
    "#stop words, used in both analyses to filter from most common word lists\n",
    "\n",
    "sw = set(stopwords.words('english'))\n",
    "len(sw)"
   ]
  },
  {
   "cell_type": "code",
   "execution_count": 7,
   "metadata": {},
   "outputs": [
    {
     "data": {
      "text/plain": [
       "[('nations', 1997),\n",
       " ('united', 1996),\n",
       " ('international', 1251),\n",
       " ('world', 1101),\n",
       " ('peace', 1019),\n",
       " ('countries', 908),\n",
       " ('states', 897),\n",
       " ('organization', 763),\n",
       " ('would', 677),\n",
       " ('people', 649),\n",
       " ('development', 649),\n",
       " ('security', 594),\n",
       " ('general', 571),\n",
       " ('peoples', 567),\n",
       " ('assembly', 552),\n",
       " ('charter', 551),\n",
       " ('government', 544),\n",
       " ('one', 535),\n",
       " ('must', 474),\n",
       " ('also', 454),\n",
       " ('economic', 450),\n",
       " ('us', 401),\n",
       " ('years', 392),\n",
       " ('time', 371),\n",
       " ('great', 369)]"
      ]
     },
     "execution_count": 7,
     "metadata": {},
     "output_type": "execute_result"
    }
   ],
   "source": [
    "speeches_1970['word_list'] = speeches_1970.word_list.apply(\n",
    "    lambda x: [y for y in x if y not in sw])\n",
    "\n",
    "c = Counter(speeches_1970.word_list.sum())\n",
    "c.most_common(25)"
   ]
  },
  {
   "cell_type": "code",
   "execution_count": 8,
   "metadata": {},
   "outputs": [
    {
     "data": {
      "text/plain": [
       "[('reliably', 1),\n",
       " ('polish', 1),\n",
       " ('sqon', 1),\n",
       " ('ultra', 1),\n",
       " ('nonapplicability', 1),\n",
       " ('statutory', 1),\n",
       " ('2391', 1),\n",
       " ('renovation', 1),\n",
       " ('russia', 1),\n",
       " ('gbout', 1),\n",
       " ('•', 1),\n",
       " ('prediction', 1),\n",
       " ('oceania', 1),\n",
       " ('fat', 1),\n",
       " ('1848th', 1),\n",
       " ('shabby', 1),\n",
       " ('predatory', 1),\n",
       " ('siphoned', 1),\n",
       " ('crop', 1),\n",
       " ('outflow', 1),\n",
       " ('ashes', 1),\n",
       " ('pr', 1),\n",
       " ('bystander', 1),\n",
       " ('antiimperialist', 1),\n",
       " ('earn', 1)]"
      ]
     },
     "execution_count": 8,
     "metadata": {},
     "output_type": "execute_result"
    }
   ],
   "source": [
    "c.most_common()[-25:]"
   ]
  },
  {
   "cell_type": "markdown",
   "metadata": {},
   "source": [
    "Most Common Words in 2015?"
   ]
  },
  {
   "cell_type": "code",
   "execution_count": 9,
   "metadata": {},
   "outputs": [],
   "source": [
    "#2015 Analysis\n",
    "\n",
    "speeches_2015 = undf[undf.year == 2015].copy()\n",
    "speeches_2015['text'] = speeches_2015.text.apply(lambda x: x.lower())\n",
    "speeches_2015['text'] = speeches_2015.text.apply(\n",
    "    lambda x: x.translate(str.maketrans(\n",
    "        string.punctuation, ' '*len(string.punctuation))))\n",
    "speeches_2015['word_list'] = speeches_2015.text.apply(nltk.word_tokenize)"
   ]
  },
  {
   "cell_type": "code",
   "execution_count": 10,
   "metadata": {},
   "outputs": [
    {
     "data": {
      "text/plain": [
       "[('the', 30833),\n",
       " ('of', 17302),\n",
       " ('and', 15956),\n",
       " ('to', 13798),\n",
       " ('in', 8963),\n",
       " ('that', 6892),\n",
       " ('a', 6605),\n",
       " ('we', 5777),\n",
       " ('is', 4599),\n",
       " ('for', 4428)]"
      ]
     },
     "execution_count": 10,
     "metadata": {},
     "output_type": "execute_result"
    }
   ],
   "source": [
    "d = Counter(speeches_2015.word_list.sum())\n",
    "d.most_common(10)"
   ]
  },
  {
   "cell_type": "code",
   "execution_count": 11,
   "metadata": {},
   "outputs": [
    {
     "data": {
      "text/plain": [
       "[('225', 1),\n",
       " ('tougher', 1),\n",
       " ('hazard', 1),\n",
       " ('pillagers', 1),\n",
       " ('intrusion', 1),\n",
       " ('corrective', 1),\n",
       " ('remitting', 1),\n",
       " ('invoice', 1),\n",
       " ('payable', 1),\n",
       " ('limb', 1)]"
      ]
     },
     "execution_count": 11,
     "metadata": {},
     "output_type": "execute_result"
    }
   ],
   "source": [
    "d.most_common()[-10:]"
   ]
  },
  {
   "cell_type": "code",
   "execution_count": 12,
   "metadata": {},
   "outputs": [
    {
     "data": {
      "text/plain": [
       "[('nations', 2594),\n",
       " ('united', 2572),\n",
       " ('development', 1755),\n",
       " ('international', 1727),\n",
       " ('world', 1640),\n",
       " ('security', 1395),\n",
       " ('’', 1356),\n",
       " ('peace', 1286),\n",
       " ('people', 1242),\n",
       " ('countries', 1086),\n",
       " ('must', 1033),\n",
       " ('also', 1005),\n",
       " ('states', 999),\n",
       " ('human', 957),\n",
       " ('country', 915),\n",
       " ('us', 900),\n",
       " ('70', 857),\n",
       " ('global', 830),\n",
       " ('rights', 789),\n",
       " ('new', 745),\n",
       " ('sustainable', 739),\n",
       " ('years', 700),\n",
       " ('one', 699),\n",
       " ('climate', 683),\n",
       " ('—', 683)]"
      ]
     },
     "execution_count": 12,
     "metadata": {},
     "output_type": "execute_result"
    }
   ],
   "source": [
    "speeches_2015['word_list'] = speeches_2015.word_list.apply(\n",
    "    lambda x: [y for y in x if y not in sw])\n",
    "\n",
    "d = Counter(speeches_2015.word_list.sum())\n",
    "d.most_common(25)"
   ]
  },
  {
   "cell_type": "code",
   "execution_count": 13,
   "metadata": {},
   "outputs": [
    {
     "data": {
      "text/plain": [
       "[('displeasing', 1),\n",
       " ('homosexual', 1),\n",
       " ('depart', 1),\n",
       " ('entertaining', 1),\n",
       " ('adult', 1),\n",
       " ('spouses', 1),\n",
       " ('clad', 1),\n",
       " ('inheritance', 1),\n",
       " ('myths', 1),\n",
       " ('falsehoods', 1),\n",
       " ('traction', 1),\n",
       " ('arresting', 1),\n",
       " ('incessant', 1),\n",
       " ('distracted', 1),\n",
       " ('exigency', 1),\n",
       " ('225', 1),\n",
       " ('tougher', 1),\n",
       " ('hazard', 1),\n",
       " ('pillagers', 1),\n",
       " ('intrusion', 1),\n",
       " ('corrective', 1),\n",
       " ('remitting', 1),\n",
       " ('invoice', 1),\n",
       " ('payable', 1),\n",
       " ('limb', 1)]"
      ]
     },
     "execution_count": 13,
     "metadata": {},
     "output_type": "execute_result"
    }
   ],
   "source": [
    "d.most_common()[-25:]"
   ]
  },
  {
   "cell_type": "code",
   "execution_count": 14,
   "metadata": {},
   "outputs": [
    {
     "name": "stdout",
     "output_type": "stream",
     "text": [
      "217965\n",
      "[['nations', 1.1900993278737413], ['united', 1.1800059642603171], ['development', 0.8051751427981557], ['international', 0.7923290436537977], ['world', 0.7524143784552566], ['security', 0.6400110109421238], ['’', 0.6221182299910536], ['peace', 0.5900029821301586], ['people', 0.5698162549033101], ['countries', 0.4982451310990297], ['must', 0.47392930057578053], ['also', 0.46108320143142245], ['states', 0.4583304659004886], ['human', 0.4390613171839515], ['country', 0.4197921684674145], ['us', 0.41291032964007984], ['70', 0.39318239166838714], ['global', 0.38079508177918475], ['rights', 0.3619847223178033], ['new', 0.341797995090955]]\n"
     ]
    }
   ],
   "source": [
    "#Normalize 2015 Data\n",
    "\n",
    "#2015\n",
    "print(sum(d.values()) )\n",
    "#list of tuples\n",
    "x = d.most_common(20)\n",
    "\n",
    "#list of lists\n",
    "y = [list(ele) for ele in x] \n",
    "\n",
    "#before\n",
    "#print(y)\n",
    "\n",
    "for elem in y:\n",
    "    val = elem[1]\n",
    "    elem[1] = (val / 217965) * 100\n",
    "  \n",
    "print(y)"
   ]
  },
  {
   "cell_type": "code",
   "execution_count": 15,
   "metadata": {},
   "outputs": [
    {
     "name": "stdout",
     "output_type": "stream",
     "text": [
      "[['nations', 1.8127817184387995], ['united', 1.7974073168174989], ['development', 1.2264579475173836], ['international', 1.206890527272092], ['world', 1.1460917572242217], ['security', 0.9748768300779204], ['’', 0.9476222090219785], ['peace', 0.8987036584087494], ['people', 0.8679548551661485], ['countries', 0.758936370942381], ['must', 0.7218980397637933], ['also', 0.7023306195185016], ['states', 0.6981376008945106], ['human', 0.6687864705265733], ['country', 0.6394353401586359], ['us', 0.6289527935986582], ['70', 0.598902826793389], ['global', 0.5800342429854293], ['rights', 0.5513819490548237], ['new', 0.5206331458122226]]\n"
     ]
    }
   ],
   "source": [
    "#find 2015 words in 1970 to compare\n",
    "wordsin1970 = []\n",
    "\n",
    "#y is list of top words for normalized 2015 data\n",
    "for elem in y:\n",
    "    #y is a list of lists\n",
    "    \n",
    "    #143095 words in 1970 list w/o stop words\n",
    "    \n",
    "    #top words in 2015 w/o stopwords\n",
    "    word = elem[0]\n",
    "    \n",
    "    #normalized occurrences in 1970 for top word in 2015\n",
    "    \n",
    "    freq = d[word]\n",
    "    newFreq = (freq / 143095) * 100\n",
    "    \n",
    "    newElem = [word,newFreq]\n",
    "    wordsin1970.append(newElem)\n",
    "\n",
    "print(wordsin1970)"
   ]
  },
  {
   "cell_type": "code",
   "execution_count": 16,
   "metadata": {},
   "outputs": [],
   "source": [
    "df1 = pd.DataFrame(y, columns = ['word', '2015'])  #2015 words\n",
    "df2 = pd.DataFrame(wordsin1970, columns = ['word', '1970'])  #2015 words in 1970"
   ]
  },
  {
   "cell_type": "code",
   "execution_count": 17,
   "metadata": {},
   "outputs": [],
   "source": [
    "#merge to dataframes above, where word is the unique identifier\n",
    "df = df2.merge(df1[['word',\"2015\"]])"
   ]
  },
  {
   "cell_type": "code",
   "execution_count": 18,
   "metadata": {},
   "outputs": [
    {
     "data": {
      "text/html": [
       "<div>\n",
       "<style scoped>\n",
       "    .dataframe tbody tr th:only-of-type {\n",
       "        vertical-align: middle;\n",
       "    }\n",
       "\n",
       "    .dataframe tbody tr th {\n",
       "        vertical-align: top;\n",
       "    }\n",
       "\n",
       "    .dataframe thead th {\n",
       "        text-align: right;\n",
       "    }\n",
       "</style>\n",
       "<table border=\"1\" class=\"dataframe\">\n",
       "  <thead>\n",
       "    <tr style=\"text-align: right;\">\n",
       "      <th></th>\n",
       "      <th>word</th>\n",
       "      <th>year</th>\n",
       "      <th>value</th>\n",
       "    </tr>\n",
       "  </thead>\n",
       "  <tbody>\n",
       "    <tr>\n",
       "      <th>0</th>\n",
       "      <td>nations</td>\n",
       "      <td>1970</td>\n",
       "      <td>1.812782</td>\n",
       "    </tr>\n",
       "    <tr>\n",
       "      <th>1</th>\n",
       "      <td>united</td>\n",
       "      <td>1970</td>\n",
       "      <td>1.797407</td>\n",
       "    </tr>\n",
       "    <tr>\n",
       "      <th>2</th>\n",
       "      <td>development</td>\n",
       "      <td>1970</td>\n",
       "      <td>1.226458</td>\n",
       "    </tr>\n",
       "    <tr>\n",
       "      <th>3</th>\n",
       "      <td>international</td>\n",
       "      <td>1970</td>\n",
       "      <td>1.206891</td>\n",
       "    </tr>\n",
       "    <tr>\n",
       "      <th>4</th>\n",
       "      <td>world</td>\n",
       "      <td>1970</td>\n",
       "      <td>1.146092</td>\n",
       "    </tr>\n",
       "    <tr>\n",
       "      <th>5</th>\n",
       "      <td>security</td>\n",
       "      <td>1970</td>\n",
       "      <td>0.974877</td>\n",
       "    </tr>\n",
       "    <tr>\n",
       "      <th>6</th>\n",
       "      <td>’</td>\n",
       "      <td>1970</td>\n",
       "      <td>0.947622</td>\n",
       "    </tr>\n",
       "    <tr>\n",
       "      <th>7</th>\n",
       "      <td>peace</td>\n",
       "      <td>1970</td>\n",
       "      <td>0.898704</td>\n",
       "    </tr>\n",
       "    <tr>\n",
       "      <th>8</th>\n",
       "      <td>people</td>\n",
       "      <td>1970</td>\n",
       "      <td>0.867955</td>\n",
       "    </tr>\n",
       "    <tr>\n",
       "      <th>9</th>\n",
       "      <td>countries</td>\n",
       "      <td>1970</td>\n",
       "      <td>0.758936</td>\n",
       "    </tr>\n",
       "    <tr>\n",
       "      <th>10</th>\n",
       "      <td>must</td>\n",
       "      <td>1970</td>\n",
       "      <td>0.721898</td>\n",
       "    </tr>\n",
       "    <tr>\n",
       "      <th>11</th>\n",
       "      <td>also</td>\n",
       "      <td>1970</td>\n",
       "      <td>0.702331</td>\n",
       "    </tr>\n",
       "    <tr>\n",
       "      <th>12</th>\n",
       "      <td>states</td>\n",
       "      <td>1970</td>\n",
       "      <td>0.698138</td>\n",
       "    </tr>\n",
       "    <tr>\n",
       "      <th>13</th>\n",
       "      <td>human</td>\n",
       "      <td>1970</td>\n",
       "      <td>0.668786</td>\n",
       "    </tr>\n",
       "    <tr>\n",
       "      <th>14</th>\n",
       "      <td>country</td>\n",
       "      <td>1970</td>\n",
       "      <td>0.639435</td>\n",
       "    </tr>\n",
       "    <tr>\n",
       "      <th>15</th>\n",
       "      <td>us</td>\n",
       "      <td>1970</td>\n",
       "      <td>0.628953</td>\n",
       "    </tr>\n",
       "    <tr>\n",
       "      <th>16</th>\n",
       "      <td>70</td>\n",
       "      <td>1970</td>\n",
       "      <td>0.598903</td>\n",
       "    </tr>\n",
       "    <tr>\n",
       "      <th>17</th>\n",
       "      <td>global</td>\n",
       "      <td>1970</td>\n",
       "      <td>0.580034</td>\n",
       "    </tr>\n",
       "    <tr>\n",
       "      <th>18</th>\n",
       "      <td>rights</td>\n",
       "      <td>1970</td>\n",
       "      <td>0.551382</td>\n",
       "    </tr>\n",
       "    <tr>\n",
       "      <th>19</th>\n",
       "      <td>new</td>\n",
       "      <td>1970</td>\n",
       "      <td>0.520633</td>\n",
       "    </tr>\n",
       "    <tr>\n",
       "      <th>20</th>\n",
       "      <td>nations</td>\n",
       "      <td>2015</td>\n",
       "      <td>1.190099</td>\n",
       "    </tr>\n",
       "    <tr>\n",
       "      <th>21</th>\n",
       "      <td>united</td>\n",
       "      <td>2015</td>\n",
       "      <td>1.180006</td>\n",
       "    </tr>\n",
       "    <tr>\n",
       "      <th>22</th>\n",
       "      <td>development</td>\n",
       "      <td>2015</td>\n",
       "      <td>0.805175</td>\n",
       "    </tr>\n",
       "    <tr>\n",
       "      <th>23</th>\n",
       "      <td>international</td>\n",
       "      <td>2015</td>\n",
       "      <td>0.792329</td>\n",
       "    </tr>\n",
       "    <tr>\n",
       "      <th>24</th>\n",
       "      <td>world</td>\n",
       "      <td>2015</td>\n",
       "      <td>0.752414</td>\n",
       "    </tr>\n",
       "    <tr>\n",
       "      <th>25</th>\n",
       "      <td>security</td>\n",
       "      <td>2015</td>\n",
       "      <td>0.640011</td>\n",
       "    </tr>\n",
       "    <tr>\n",
       "      <th>26</th>\n",
       "      <td>’</td>\n",
       "      <td>2015</td>\n",
       "      <td>0.622118</td>\n",
       "    </tr>\n",
       "    <tr>\n",
       "      <th>27</th>\n",
       "      <td>peace</td>\n",
       "      <td>2015</td>\n",
       "      <td>0.590003</td>\n",
       "    </tr>\n",
       "    <tr>\n",
       "      <th>28</th>\n",
       "      <td>people</td>\n",
       "      <td>2015</td>\n",
       "      <td>0.569816</td>\n",
       "    </tr>\n",
       "    <tr>\n",
       "      <th>29</th>\n",
       "      <td>countries</td>\n",
       "      <td>2015</td>\n",
       "      <td>0.498245</td>\n",
       "    </tr>\n",
       "    <tr>\n",
       "      <th>30</th>\n",
       "      <td>must</td>\n",
       "      <td>2015</td>\n",
       "      <td>0.473929</td>\n",
       "    </tr>\n",
       "    <tr>\n",
       "      <th>31</th>\n",
       "      <td>also</td>\n",
       "      <td>2015</td>\n",
       "      <td>0.461083</td>\n",
       "    </tr>\n",
       "    <tr>\n",
       "      <th>32</th>\n",
       "      <td>states</td>\n",
       "      <td>2015</td>\n",
       "      <td>0.458330</td>\n",
       "    </tr>\n",
       "    <tr>\n",
       "      <th>33</th>\n",
       "      <td>human</td>\n",
       "      <td>2015</td>\n",
       "      <td>0.439061</td>\n",
       "    </tr>\n",
       "    <tr>\n",
       "      <th>34</th>\n",
       "      <td>country</td>\n",
       "      <td>2015</td>\n",
       "      <td>0.419792</td>\n",
       "    </tr>\n",
       "    <tr>\n",
       "      <th>35</th>\n",
       "      <td>us</td>\n",
       "      <td>2015</td>\n",
       "      <td>0.412910</td>\n",
       "    </tr>\n",
       "    <tr>\n",
       "      <th>36</th>\n",
       "      <td>70</td>\n",
       "      <td>2015</td>\n",
       "      <td>0.393182</td>\n",
       "    </tr>\n",
       "    <tr>\n",
       "      <th>37</th>\n",
       "      <td>global</td>\n",
       "      <td>2015</td>\n",
       "      <td>0.380795</td>\n",
       "    </tr>\n",
       "    <tr>\n",
       "      <th>38</th>\n",
       "      <td>rights</td>\n",
       "      <td>2015</td>\n",
       "      <td>0.361985</td>\n",
       "    </tr>\n",
       "    <tr>\n",
       "      <th>39</th>\n",
       "      <td>new</td>\n",
       "      <td>2015</td>\n",
       "      <td>0.341798</td>\n",
       "    </tr>\n",
       "  </tbody>\n",
       "</table>\n",
       "</div>"
      ],
      "text/plain": [
       "             word  year     value\n",
       "0         nations  1970  1.812782\n",
       "1          united  1970  1.797407\n",
       "2     development  1970  1.226458\n",
       "3   international  1970  1.206891\n",
       "4           world  1970  1.146092\n",
       "5        security  1970  0.974877\n",
       "6               ’  1970  0.947622\n",
       "7           peace  1970  0.898704\n",
       "8          people  1970  0.867955\n",
       "9       countries  1970  0.758936\n",
       "10           must  1970  0.721898\n",
       "11           also  1970  0.702331\n",
       "12         states  1970  0.698138\n",
       "13          human  1970  0.668786\n",
       "14        country  1970  0.639435\n",
       "15             us  1970  0.628953\n",
       "16             70  1970  0.598903\n",
       "17         global  1970  0.580034\n",
       "18         rights  1970  0.551382\n",
       "19            new  1970  0.520633\n",
       "20        nations  2015  1.190099\n",
       "21         united  2015  1.180006\n",
       "22    development  2015  0.805175\n",
       "23  international  2015  0.792329\n",
       "24          world  2015  0.752414\n",
       "25       security  2015  0.640011\n",
       "26              ’  2015  0.622118\n",
       "27          peace  2015  0.590003\n",
       "28         people  2015  0.569816\n",
       "29      countries  2015  0.498245\n",
       "30           must  2015  0.473929\n",
       "31           also  2015  0.461083\n",
       "32         states  2015  0.458330\n",
       "33          human  2015  0.439061\n",
       "34        country  2015  0.419792\n",
       "35             us  2015  0.412910\n",
       "36             70  2015  0.393182\n",
       "37         global  2015  0.380795\n",
       "38         rights  2015  0.361985\n",
       "39            new  2015  0.341798"
      ]
     },
     "execution_count": 18,
     "metadata": {},
     "output_type": "execute_result"
    }
   ],
   "source": [
    "#save copy of old df\n",
    "oldDF = df\n",
    "\n",
    "#wide-form to long-form to graph with altair\n",
    "df = df.melt(id_vars =['word'])\n",
    "df = df.rename(columns={'variable': 'year'})\n",
    "df"
   ]
  },
  {
   "cell_type": "code",
   "execution_count": 19,
   "metadata": {},
   "outputs": [
    {
     "data": {
      "text/html": [
       "\n",
       "<div id=\"altair-viz-665671ed52a54632972f86d7c30f4276\"></div>\n",
       "<script type=\"text/javascript\">\n",
       "  (function(spec, embedOpt){\n",
       "    const outputDiv = document.getElementById(\"altair-viz-665671ed52a54632972f86d7c30f4276\");\n",
       "    const paths = {\n",
       "      \"vega\": \"https://cdn.jsdelivr.net/npm//vega@5?noext\",\n",
       "      \"vega-lib\": \"https://cdn.jsdelivr.net/npm//vega-lib?noext\",\n",
       "      \"vega-lite\": \"https://cdn.jsdelivr.net/npm//vega-lite@4.0.2?noext\",\n",
       "      \"vega-embed\": \"https://cdn.jsdelivr.net/npm//vega-embed@6?noext\",\n",
       "    };\n",
       "\n",
       "    function loadScript(lib) {\n",
       "      return new Promise(function(resolve, reject) {\n",
       "        var s = document.createElement('script');\n",
       "        s.src = paths[lib];\n",
       "        s.async = true;\n",
       "        s.onload = () => resolve(paths[lib]);\n",
       "        s.onerror = () => reject(`Error loading script: ${paths[lib]}`);\n",
       "        document.getElementsByTagName(\"head\")[0].appendChild(s);\n",
       "      });\n",
       "    }\n",
       "\n",
       "    function showError(err) {\n",
       "      outputDiv.innerHTML = `<div class=\"error\" style=\"color:red;\">${err}</div>`;\n",
       "      throw err;\n",
       "    }\n",
       "\n",
       "    function displayChart(vegaEmbed) {\n",
       "      vegaEmbed(outputDiv, spec, embedOpt)\n",
       "        .catch(err => showError(`Javascript Error: ${err.message}<br>This usually means there's a typo in your chart specification. See the javascript console for the full traceback.`));\n",
       "    }\n",
       "\n",
       "    if(typeof define === \"function\" && define.amd) {\n",
       "      requirejs.config({paths});\n",
       "      require([\"vega-embed\"], displayChart, err => showError(`Error loading script: ${err.message}`));\n",
       "    } else if (typeof vegaEmbed === \"function\") {\n",
       "      displayChart(vegaEmbed);\n",
       "    } else {\n",
       "      loadScript(\"vega\")\n",
       "        .then(() => loadScript(\"vega-lite\"))\n",
       "        .then(() => loadScript(\"vega-embed\"))\n",
       "        .catch(showError)\n",
       "        .then(() => displayChart(vegaEmbed));\n",
       "    }\n",
       "  })({\"config\": {\"view\": {\"continuousWidth\": 400, \"continuousHeight\": 300}}, \"data\": {\"name\": \"data-8ecc271ea67fe7dbf2fe3306075de5a2\"}, \"mark\": \"bar\", \"encoding\": {\"color\": {\"type\": \"nominal\", \"field\": \"year\"}, \"column\": {\"type\": \"nominal\", \"field\": \"site\"}, \"x\": {\"type\": \"ordinal\", \"field\": \"word\"}, \"y\": {\"type\": \"quantitative\", \"field\": \"value\"}}, \"$schema\": \"https://vega.github.io/schema/vega-lite/v4.0.2.json\", \"datasets\": {\"data-8ecc271ea67fe7dbf2fe3306075de5a2\": [{\"word\": \"nations\", \"year\": \"1970\", \"value\": 1.8127817184387995}, {\"word\": \"united\", \"year\": \"1970\", \"value\": 1.7974073168174989}, {\"word\": \"development\", \"year\": \"1970\", \"value\": 1.2264579475173836}, {\"word\": \"international\", \"year\": \"1970\", \"value\": 1.206890527272092}, {\"word\": \"world\", \"year\": \"1970\", \"value\": 1.1460917572242217}, {\"word\": \"security\", \"year\": \"1970\", \"value\": 0.9748768300779204}, {\"word\": \"\\u2019\", \"year\": \"1970\", \"value\": 0.9476222090219785}, {\"word\": \"peace\", \"year\": \"1970\", \"value\": 0.8987036584087494}, {\"word\": \"people\", \"year\": \"1970\", \"value\": 0.8679548551661485}, {\"word\": \"countries\", \"year\": \"1970\", \"value\": 0.758936370942381}, {\"word\": \"must\", \"year\": \"1970\", \"value\": 0.7218980397637933}, {\"word\": \"also\", \"year\": \"1970\", \"value\": 0.7023306195185016}, {\"word\": \"states\", \"year\": \"1970\", \"value\": 0.6981376008945106}, {\"word\": \"human\", \"year\": \"1970\", \"value\": 0.6687864705265733}, {\"word\": \"country\", \"year\": \"1970\", \"value\": 0.6394353401586359}, {\"word\": \"us\", \"year\": \"1970\", \"value\": 0.6289527935986582}, {\"word\": \"70\", \"year\": \"1970\", \"value\": 0.598902826793389}, {\"word\": \"global\", \"year\": \"1970\", \"value\": 0.5800342429854293}, {\"word\": \"rights\", \"year\": \"1970\", \"value\": 0.5513819490548237}, {\"word\": \"new\", \"year\": \"1970\", \"value\": 0.5206331458122226}, {\"word\": \"nations\", \"year\": \"2015\", \"value\": 1.1900993278737413}, {\"word\": \"united\", \"year\": \"2015\", \"value\": 1.1800059642603171}, {\"word\": \"development\", \"year\": \"2015\", \"value\": 0.8051751427981557}, {\"word\": \"international\", \"year\": \"2015\", \"value\": 0.7923290436537977}, {\"word\": \"world\", \"year\": \"2015\", \"value\": 0.7524143784552566}, {\"word\": \"security\", \"year\": \"2015\", \"value\": 0.6400110109421238}, {\"word\": \"\\u2019\", \"year\": \"2015\", \"value\": 0.6221182299910536}, {\"word\": \"peace\", \"year\": \"2015\", \"value\": 0.5900029821301586}, {\"word\": \"people\", \"year\": \"2015\", \"value\": 0.5698162549033101}, {\"word\": \"countries\", \"year\": \"2015\", \"value\": 0.4982451310990297}, {\"word\": \"must\", \"year\": \"2015\", \"value\": 0.47392930057578053}, {\"word\": \"also\", \"year\": \"2015\", \"value\": 0.46108320143142245}, {\"word\": \"states\", \"year\": \"2015\", \"value\": 0.4583304659004886}, {\"word\": \"human\", \"year\": \"2015\", \"value\": 0.4390613171839515}, {\"word\": \"country\", \"year\": \"2015\", \"value\": 0.4197921684674145}, {\"word\": \"us\", \"year\": \"2015\", \"value\": 0.41291032964007984}, {\"word\": \"70\", \"year\": \"2015\", \"value\": 0.39318239166838714}, {\"word\": \"global\", \"year\": \"2015\", \"value\": 0.38079508177918475}, {\"word\": \"rights\", \"year\": \"2015\", \"value\": 0.3619847223178033}, {\"word\": \"new\", \"year\": \"2015\", \"value\": 0.341797995090955}]}}, {\"mode\": \"vega-lite\"});\n",
       "</script>"
      ],
      "text/plain": [
       "alt.Chart(...)"
      ]
     },
     "execution_count": 19,
     "metadata": {},
     "output_type": "execute_result"
    }
   ],
   "source": [
    "#graph a grouped bar chart to compare top 2015 UN speech words also found in 1970\n",
    "\n",
    "#those same words were, overall, used more frequently in 1970\n",
    "\n",
    "source = df\n",
    "\n",
    "alt.Chart(source).mark_bar().encode(\n",
    "    x='word:O',\n",
    "    y='value:Q',\n",
    "    color='year:N',\n",
    "    column='site:N'\n",
    ")\n",
    "\n",
    "#Frequency Histogram"
   ]
  },
  {
   "cell_type": "markdown",
   "metadata": {},
   "source": [
    "WordCloud visualizations for most common words in UN speeches in 1970 and 2015"
   ]
  },
  {
   "cell_type": "code",
   "execution_count": 20,
   "metadata": {},
   "outputs": [],
   "source": [
    "wc2015 = d.most_common(20)\n",
    "wc1970 = c.most_common(20)"
   ]
  },
  {
   "cell_type": "code",
   "execution_count": 21,
   "metadata": {},
   "outputs": [],
   "source": [
    "wc2015_2 = []\n",
    "wc1970_2 = []\n",
    "\n",
    "for elem in wc2015:\n",
    "    word = elem[0]\n",
    "    wc2015_2.append(word)\n",
    "    \n",
    "for elem in wc1970:\n",
    "    word = elem[0]\n",
    "    wc1970_2.append(word)\n"
   ]
  },
  {
   "cell_type": "code",
   "execution_count": 22,
   "metadata": {},
   "outputs": [
    {
     "name": "stdout",
     "output_type": "stream",
     "text": [
      "['nations', 'united', 'international', 'world', 'peace', 'countries', 'states', 'organization', 'would', 'people', 'development', 'security', 'general', 'peoples', 'assembly', 'charter', 'government', 'one', 'must', 'also']\n"
     ]
    }
   ],
   "source": [
    "print(wc1970_2)"
   ]
  },
  {
   "cell_type": "code",
   "execution_count": 23,
   "metadata": {},
   "outputs": [
    {
     "name": "stdout",
     "output_type": "stream",
     "text": [
      "['nations', 'united', 'development', 'international', 'world', 'security', '’', 'peace', 'people', 'countries', 'must', 'also', 'states', 'human', 'country', 'us', '70', 'global', 'rights', 'new']\n"
     ]
    }
   ],
   "source": [
    "print(wc2015_2)"
   ]
  },
  {
   "cell_type": "code",
   "execution_count": 24,
   "metadata": {},
   "outputs": [],
   "source": [
    "from wordcloud import WordCloud"
   ]
  },
  {
   "cell_type": "code",
   "execution_count": 25,
   "metadata": {},
   "outputs": [],
   "source": [
    "#turn words into a string of text, the words are already in order of most common to least (top 20 for each year)\n",
    "text1970 = ' '.join(word for word in wc1970_2)\n",
    "text2015 = ' '.join(word for word in wc2015_2)\n",
    "\n",
    "wordcloud1970 = WordCloud().generate(text1970)\n",
    "wordcloud2015 = WordCloud().generate(text2015)"
   ]
  },
  {
   "cell_type": "code",
   "execution_count": 26,
   "metadata": {},
   "outputs": [
    {
     "data": {
      "image/png": "[encoded data removed]",
      "text/plain": [
       "<Figure size 432x288 with 1 Axes>"
      ]
     },
     "metadata": {},
     "output_type": "display_data"
    }
   ],
   "source": [
    "#2015 word cloud\n",
    "plt.imshow(wordcloud2015, interpolation='bilinear')\n",
    "plt.axis(\"off\")\n",
    "plt.show()"
   ]
  },
  {
   "cell_type": "code",
   "execution_count": 27,
   "metadata": {},
   "outputs": [
    {
     "data": {
      "image/png": "[encoded data removed]",
      "text/plain": [
       "<Figure size 432x288 with 1 Axes>"
      ]
     },
     "metadata": {},
     "output_type": "display_data"
    }
   ],
   "source": [
    "#1970 wordcloud\n",
    "plt.imshow(wordcloud1970, interpolation='bilinear')\n",
    "plt.axis(\"off\")\n",
    "plt.show()"
   ]
  },
  {
   "cell_type": "code",
   "execution_count": 28,
   "metadata": {},
   "outputs": [
    {
     "name": "stdout",
     "output_type": "stream",
     "text": [
      "663\n"
     ]
    }
   ],
   "source": [
    "#Countries that start with M\n",
    "\n",
    "startsWithM = np.count_nonzero(undf.country.str.startswith('M'))\n",
    "print(startsWithM)"
   ]
  },
  {
   "cell_type": "code",
   "execution_count": 29,
   "metadata": {},
   "outputs": [],
   "source": [
    "uniqueM = undf.drop_duplicates(\"country\") "
   ]
  },
  {
   "cell_type": "code",
   "execution_count": 30,
   "metadata": {},
   "outputs": [
    {
     "name": "stdout",
     "output_type": "stream",
     "text": [
      "18\n"
     ]
    }
   ],
   "source": [
    "#Unique countries that start with M\n",
    "\n",
    "uniqueStartsWithM = np.count_nonzero(uniqueM.country.str.startswith('M'))\n",
    "print(uniqueStartsWithM)"
   ]
  },
  {
   "cell_type": "code",
   "execution_count": 31,
   "metadata": {},
   "outputs": [
    {
     "name": "stdout",
     "output_type": "stream",
     "text": [
      "(7507, 5)\n"
     ]
    }
   ],
   "source": [
    "#lowercase text since 'global' is lower case\n",
    "undf[\"text\"] = undf.text.str.lower()\n",
    "\n",
    "#add column checking if the speech text contains global\n",
    "undf[\"Global\"] = undf.text.str.contains(\"global\")\n",
    "print(undf.shape)"
   ]
  },
  {
   "cell_type": "code",
   "execution_count": 32,
   "metadata": {},
   "outputs": [
    {
     "data": {
      "text/plain": [
       "(5771, 5)"
      ]
     },
     "execution_count": 32,
     "metadata": {},
     "output_type": "execute_result"
    }
   ],
   "source": [
    "#remove false entries in global column\n",
    "textWithGlobal = undf[undf.Global]\n",
    "textWithGlobal.shape"
   ]
  },
  {
   "cell_type": "code",
   "execution_count": 33,
   "metadata": {},
   "outputs": [
    {
     "name": "stderr",
     "output_type": "stream",
     "text": [
      "<ipython-input-33-431593420ade>:21: SettingWithCopyWarning: \n",
      "A value is trying to be set on a copy of a slice from a DataFrame.\n",
      "Try using .loc[row_indexer,col_indexer] = value instead\n",
      "\n",
      "See the caveats in the documentation: https://pandas.pydata.org/pandas-docs/stable/user_guide/indexing.html#returning-a-view-versus-a-copy\n",
      "  textWithGlobal[\"LocationsAfterGlobal\"] = textWithGlobal[\"text\"].apply(lambda text: getIndexPositionsOfWordsAfterGlobal(text.split(),sub))\n"
     ]
    },
    {
     "data": {
      "text/html": [
       "<div>\n",
       "<style scoped>\n",
       "    .dataframe tbody tr th:only-of-type {\n",
       "        vertical-align: middle;\n",
       "    }\n",
       "\n",
       "    .dataframe tbody tr th {\n",
       "        vertical-align: top;\n",
       "    }\n",
       "\n",
       "    .dataframe thead th {\n",
       "        text-align: right;\n",
       "    }\n",
       "</style>\n",
       "<table border=\"1\" class=\"dataframe\">\n",
       "  <thead>\n",
       "    <tr style=\"text-align: right;\">\n",
       "      <th></th>\n",
       "      <th>session</th>\n",
       "      <th>year</th>\n",
       "      <th>country</th>\n",
       "      <th>text</th>\n",
       "      <th>Global</th>\n",
       "      <th>LocationsAfterGlobal</th>\n",
       "    </tr>\n",
       "  </thead>\n",
       "  <tbody>\n",
       "    <tr>\n",
       "      <th>0</th>\n",
       "      <td>44</td>\n",
       "      <td>1989</td>\n",
       "      <td>MDV</td>\n",
       "      <td>﻿it is indeed a pleasure for me and the member...</td>\n",
       "      <td>True</td>\n",
       "      <td>[357, 639, 967, 2112, 2233, 2328, 2466, 2919, ...</td>\n",
       "    </tr>\n",
       "    <tr>\n",
       "      <th>1</th>\n",
       "      <td>44</td>\n",
       "      <td>1989</td>\n",
       "      <td>FIN</td>\n",
       "      <td>﻿\\nmay i begin by congratulating you. sir, on ...</td>\n",
       "      <td>True</td>\n",
       "      <td>[401, 411, 474, 512, 614, 635, 1563, 2687, 2692]</td>\n",
       "    </tr>\n",
       "    <tr>\n",
       "      <th>3</th>\n",
       "      <td>44</td>\n",
       "      <td>1989</td>\n",
       "      <td>URY</td>\n",
       "      <td>﻿\\nduring the debate at the fortieth session o...</td>\n",
       "      <td>True</td>\n",
       "      <td>[71, 1588]</td>\n",
       "    </tr>\n",
       "    <tr>\n",
       "      <th>4</th>\n",
       "      <td>44</td>\n",
       "      <td>1989</td>\n",
       "      <td>ZWE</td>\n",
       "      <td>﻿i should like at the outset to express my del...</td>\n",
       "      <td>True</td>\n",
       "      <td>[744, 1332]</td>\n",
       "    </tr>\n",
       "    <tr>\n",
       "      <th>5</th>\n",
       "      <td>44</td>\n",
       "      <td>1989</td>\n",
       "      <td>PHL</td>\n",
       "      <td>﻿before you began to occupy that exalted seat,...</td>\n",
       "      <td>True</td>\n",
       "      <td>[33, 1001, 1500]</td>\n",
       "    </tr>\n",
       "  </tbody>\n",
       "</table>\n",
       "</div>"
      ],
      "text/plain": [
       "   session  year country                                               text  \\\n",
       "0       44  1989     MDV  ﻿it is indeed a pleasure for me and the member...   \n",
       "1       44  1989     FIN  ﻿\\nmay i begin by congratulating you. sir, on ...   \n",
       "3       44  1989     URY  ﻿\\nduring the debate at the fortieth session o...   \n",
       "4       44  1989     ZWE  ﻿i should like at the outset to express my del...   \n",
       "5       44  1989     PHL  ﻿before you began to occupy that exalted seat,...   \n",
       "\n",
       "   Global                               LocationsAfterGlobal  \n",
       "0    True  [357, 639, 967, 2112, 2233, 2328, 2466, 2919, ...  \n",
       "1    True   [401, 411, 474, 512, 614, 635, 1563, 2687, 2692]  \n",
       "3    True                                         [71, 1588]  \n",
       "4    True                                        [744, 1332]  \n",
       "5    True                                   [33, 1001, 1500]  "
      ]
     },
     "execution_count": 33,
     "metadata": {},
     "output_type": "execute_result"
    }
   ],
   "source": [
    "def getIndexPositionsOfWordsAfterGlobal(listOfElements, element):\n",
    "    #Returns the indexes of all occurrences of given element in listOfElements\n",
    "    \n",
    "    indexPosList = []\n",
    "    indexPos = 0\n",
    "    while True:\n",
    "        try:\n",
    "            # Search for item in list from indexPos to the end of list\n",
    "            indexPos = listOfElements.index(element, indexPos)\n",
    "            # Add the index position in list\n",
    "            indexPosList.append(indexPos)\n",
    "            indexPos += 1\n",
    "        except ValueError as e:\n",
    "            break\n",
    "    #add 1 to each index in list to find index of word after global\n",
    "    indexPosList = [x+1 for x in indexPosList]\n",
    "    return indexPosList\n",
    "\n",
    "#apply function above\n",
    "sub = \"global\"\n",
    "textWithGlobal[\"LocationsAfterGlobal\"] = textWithGlobal[\"text\"].apply(lambda text: getIndexPositionsOfWordsAfterGlobal(text.split(),sub))\n",
    "textWithGlobal.head()"
   ]
  },
  {
   "cell_type": "code",
   "execution_count": 34,
   "metadata": {},
   "outputs": [
    {
     "name": "stderr",
     "output_type": "stream",
     "text": [
      "<ipython-input-34-747d9db57853>:31: SettingWithCopyWarning: \n",
      "A value is trying to be set on a copy of a slice from a DataFrame.\n",
      "Try using .loc[row_indexer,col_indexer] = value instead\n",
      "\n",
      "See the caveats in the documentation: https://pandas.pydata.org/pandas-docs/stable/user_guide/indexing.html#returning-a-view-versus-a-copy\n",
      "  textWithGlobal[\"lists\"] = textWithGlobal['text'].apply(lambda txt: helperfn(txt))\n",
      "<ipython-input-34-747d9db57853>:33: SettingWithCopyWarning: \n",
      "A value is trying to be set on a copy of a slice from a DataFrame.\n",
      "Try using .loc[row_indexer,col_indexer] = value instead\n",
      "\n",
      "See the caveats in the documentation: https://pandas.pydata.org/pandas-docs/stable/user_guide/indexing.html#returning-a-view-versus-a-copy\n",
      "  textWithGlobal['wordDict'] = textWithGlobal.apply(lambda row: fn1(row), axis=1)\n",
      "<ipython-input-34-747d9db57853>:34: SettingWithCopyWarning: \n",
      "A value is trying to be set on a copy of a slice from a DataFrame.\n",
      "Try using .loc[row_indexer,col_indexer] = value instead\n",
      "\n",
      "See the caveats in the documentation: https://pandas.pydata.org/pandas-docs/stable/user_guide/indexing.html#returning-a-view-versus-a-copy\n",
      "  textWithGlobal['topWordAfterGlobal'] = textWithGlobal['wordDict'].apply(lambda dictOfWords: keywithmaxval(dictOfWords))\n"
     ]
    },
    {
     "data": {
      "text/html": [
       "<div>\n",
       "<style scoped>\n",
       "    .dataframe tbody tr th:only-of-type {\n",
       "        vertical-align: middle;\n",
       "    }\n",
       "\n",
       "    .dataframe tbody tr th {\n",
       "        vertical-align: top;\n",
       "    }\n",
       "\n",
       "    .dataframe thead th {\n",
       "        text-align: right;\n",
       "    }\n",
       "</style>\n",
       "<table border=\"1\" class=\"dataframe\">\n",
       "  <thead>\n",
       "    <tr style=\"text-align: right;\">\n",
       "      <th></th>\n",
       "      <th>session</th>\n",
       "      <th>year</th>\n",
       "      <th>country</th>\n",
       "      <th>text</th>\n",
       "      <th>Global</th>\n",
       "      <th>LocationsAfterGlobal</th>\n",
       "      <th>lists</th>\n",
       "      <th>wordDict</th>\n",
       "      <th>topWordAfterGlobal</th>\n",
       "    </tr>\n",
       "  </thead>\n",
       "  <tbody>\n",
       "    <tr>\n",
       "      <th>0</th>\n",
       "      <td>44</td>\n",
       "      <td>1989</td>\n",
       "      <td>MDV</td>\n",
       "      <td>﻿it is indeed a pleasure for me and the member...</td>\n",
       "      <td>True</td>\n",
       "      <td>[357, 639, 967, 2112, 2233, 2328, 2466, 2919, ...</td>\n",
       "      <td>[﻿it, is, indeed, a, pleasure, for, me, and, t...</td>\n",
       "      <td>{'political': 3, 'programme': 1, 'peace': 1, '...</td>\n",
       "      <td>political</td>\n",
       "    </tr>\n",
       "    <tr>\n",
       "      <th>1</th>\n",
       "      <td>44</td>\n",
       "      <td>1989</td>\n",
       "      <td>FIN</td>\n",
       "      <td>﻿\\nmay i begin by congratulating you. sir, on ...</td>\n",
       "      <td>True</td>\n",
       "      <td>[401, 411, 474, 512, 614, 635, 1563, 2687, 2692]</td>\n",
       "      <td>[﻿, may, i, begin, by, congratulating, you., s...</td>\n",
       "      <td>{'challenges.': 1, 'level': 2, 'and': 1, 'chal...</td>\n",
       "      <td>level</td>\n",
       "    </tr>\n",
       "    <tr>\n",
       "      <th>3</th>\n",
       "      <td>44</td>\n",
       "      <td>1989</td>\n",
       "      <td>URY</td>\n",
       "      <td>﻿\\nduring the debate at the fortieth session o...</td>\n",
       "      <td>True</td>\n",
       "      <td>[71, 1588]</td>\n",
       "      <td>[﻿, during, the, debate, at, the, fortieth, se...</td>\n",
       "      <td>{'stage': 1, 'solidarity': 1}</td>\n",
       "      <td>stage</td>\n",
       "    </tr>\n",
       "    <tr>\n",
       "      <th>4</th>\n",
       "      <td>44</td>\n",
       "      <td>1989</td>\n",
       "      <td>ZWE</td>\n",
       "      <td>﻿i should like at the outset to express my del...</td>\n",
       "      <td>True</td>\n",
       "      <td>[744, 1332]</td>\n",
       "      <td>[﻿i, should, like, at, the, outset, to, expres...</td>\n",
       "      <td>{'and': 1, 'warming': 1}</td>\n",
       "      <td>and</td>\n",
       "    </tr>\n",
       "    <tr>\n",
       "      <th>5</th>\n",
       "      <td>44</td>\n",
       "      <td>1989</td>\n",
       "      <td>PHL</td>\n",
       "      <td>﻿before you began to occupy that exalted seat,...</td>\n",
       "      <td>True</td>\n",
       "      <td>[33, 1001, 1500]</td>\n",
       "      <td>[﻿before, you, began, to, occupy, that, exalte...</td>\n",
       "      <td>{'counterattack': 1, 'attack': 1, 'underpinnin...</td>\n",
       "      <td>counterattack</td>\n",
       "    </tr>\n",
       "  </tbody>\n",
       "</table>\n",
       "</div>"
      ],
      "text/plain": [
       "   session  year country                                               text  \\\n",
       "0       44  1989     MDV  ﻿it is indeed a pleasure for me and the member...   \n",
       "1       44  1989     FIN  ﻿\\nmay i begin by congratulating you. sir, on ...   \n",
       "3       44  1989     URY  ﻿\\nduring the debate at the fortieth session o...   \n",
       "4       44  1989     ZWE  ﻿i should like at the outset to express my del...   \n",
       "5       44  1989     PHL  ﻿before you began to occupy that exalted seat,...   \n",
       "\n",
       "   Global                               LocationsAfterGlobal  \\\n",
       "0    True  [357, 639, 967, 2112, 2233, 2328, 2466, 2919, ...   \n",
       "1    True   [401, 411, 474, 512, 614, 635, 1563, 2687, 2692]   \n",
       "3    True                                         [71, 1588]   \n",
       "4    True                                        [744, 1332]   \n",
       "5    True                                   [33, 1001, 1500]   \n",
       "\n",
       "                                               lists  \\\n",
       "0  [﻿it, is, indeed, a, pleasure, for, me, and, t...   \n",
       "1  [﻿, may, i, begin, by, congratulating, you., s...   \n",
       "3  [﻿, during, the, debate, at, the, fortieth, se...   \n",
       "4  [﻿i, should, like, at, the, outset, to, expres...   \n",
       "5  [﻿before, you, began, to, occupy, that, exalte...   \n",
       "\n",
       "                                            wordDict topWordAfterGlobal  \n",
       "0  {'political': 3, 'programme': 1, 'peace': 1, '...          political  \n",
       "1  {'challenges.': 1, 'level': 2, 'and': 1, 'chal...              level  \n",
       "3                      {'stage': 1, 'solidarity': 1}              stage  \n",
       "4                           {'and': 1, 'warming': 1}                and  \n",
       "5  {'counterattack': 1, 'attack': 1, 'underpinnin...      counterattack  "
      ]
     },
     "execution_count": 34,
     "metadata": {},
     "output_type": "execute_result"
    }
   ],
   "source": [
    "def fn1(row):\n",
    "    #creates a dict with k:v pairs of words and their frequency in the text\n",
    "    tempDict = {}\n",
    "    for index in row[\"LocationsAfterGlobal\"]:\n",
    "        word = row[\"lists\"][index]\n",
    "        if(word in tempDict.keys()):\n",
    "            tempDict[word] = tempDict[word] + 1\n",
    "        else:\n",
    "            tempDict[word] = 1\n",
    "    return tempDict\n",
    "\n",
    "\n",
    "def helperfn(text):\n",
    "    #returns a list of words from a string of text\n",
    "    return text.split()\n",
    "\n",
    "\n",
    "def keywithmaxval(d):\n",
    "    #returns key in dict with highest value, in this case frequency\n",
    "    try:\n",
    "        k=list(d.keys())\n",
    "        v=list(d.values())\n",
    "\n",
    "        return k[v.index(max(v))]\n",
    "    except:\n",
    "        pass\n",
    "    \n",
    "    \n",
    "\n",
    "#split text\n",
    "textWithGlobal[\"lists\"] = textWithGlobal['text'].apply(lambda txt: helperfn(txt))\n",
    "#apply other two helpers\n",
    "textWithGlobal['wordDict'] = textWithGlobal.apply(lambda row: fn1(row), axis=1)\n",
    "textWithGlobal['topWordAfterGlobal'] = textWithGlobal['wordDict'].apply(lambda dictOfWords: keywithmaxval(dictOfWords))\n",
    "\n",
    "textWithGlobal.head()"
   ]
  },
  {
   "cell_type": "code",
   "execution_count": 35,
   "metadata": {},
   "outputs": [
    {
     "data": {
      "text/plain": [
       "count         5509\n",
       "unique        1078\n",
       "top       economic\n",
       "freq           285\n",
       "Name: topWordAfterGlobal, dtype: object"
      ]
     },
     "execution_count": 35,
     "metadata": {},
     "output_type": "execute_result"
    }
   ],
   "source": [
    "#Most frequent word\n",
    "\n",
    "#top and freq, does not consider columns where 'economic' is tied with another for most occurrences.\n",
    "\n",
    "textWithGlobal['topWordAfterGlobal'].describe()\n"
   ]
  },
  {
   "cell_type": "code",
   "execution_count": 36,
   "metadata": {},
   "outputs": [
    {
     "data": {
      "text/html": [
       "<div>\n",
       "<style scoped>\n",
       "    .dataframe tbody tr th:only-of-type {\n",
       "        vertical-align: middle;\n",
       "    }\n",
       "\n",
       "    .dataframe tbody tr th {\n",
       "        vertical-align: top;\n",
       "    }\n",
       "\n",
       "    .dataframe thead th {\n",
       "        text-align: right;\n",
       "    }\n",
       "</style>\n",
       "<table border=\"1\" class=\"dataframe\">\n",
       "  <thead>\n",
       "    <tr style=\"text-align: right;\">\n",
       "      <th></th>\n",
       "      <th>session</th>\n",
       "      <th>year</th>\n",
       "      <th>country</th>\n",
       "      <th>text</th>\n",
       "      <th>Global</th>\n",
       "    </tr>\n",
       "  </thead>\n",
       "  <tbody>\n",
       "    <tr>\n",
       "      <th>0</th>\n",
       "      <td>44</td>\n",
       "      <td>1989</td>\n",
       "      <td>MDV</td>\n",
       "      <td>it is indeed a pleasure for me and the members...</td>\n",
       "      <td>True</td>\n",
       "    </tr>\n",
       "    <tr>\n",
       "      <th>1</th>\n",
       "      <td>44</td>\n",
       "      <td>1989</td>\n",
       "      <td>FIN</td>\n",
       "      <td>may i begin by congratulating you. sir, on you...</td>\n",
       "      <td>True</td>\n",
       "    </tr>\n",
       "    <tr>\n",
       "      <th>2</th>\n",
       "      <td>44</td>\n",
       "      <td>1989</td>\n",
       "      <td>NER</td>\n",
       "      <td>mr. president, it is a particular pleasure for...</td>\n",
       "      <td>False</td>\n",
       "    </tr>\n",
       "    <tr>\n",
       "      <th>3</th>\n",
       "      <td>44</td>\n",
       "      <td>1989</td>\n",
       "      <td>URY</td>\n",
       "      <td>during the debate at the fortieth session of t...</td>\n",
       "      <td>True</td>\n",
       "    </tr>\n",
       "    <tr>\n",
       "      <th>4</th>\n",
       "      <td>44</td>\n",
       "      <td>1989</td>\n",
       "      <td>ZWE</td>\n",
       "      <td>i should like at the outset to express my dele...</td>\n",
       "      <td>True</td>\n",
       "    </tr>\n",
       "  </tbody>\n",
       "</table>\n",
       "</div>"
      ],
      "text/plain": [
       "   session  year country                                               text  \\\n",
       "0       44  1989     MDV  it is indeed a pleasure for me and the members...   \n",
       "1       44  1989     FIN  may i begin by congratulating you. sir, on you...   \n",
       "2       44  1989     NER  mr. president, it is a particular pleasure for...   \n",
       "3       44  1989     URY  during the debate at the fortieth session of t...   \n",
       "4       44  1989     ZWE  i should like at the outset to express my dele...   \n",
       "\n",
       "   Global  \n",
       "0    True  \n",
       "1    True  \n",
       "2   False  \n",
       "3    True  \n",
       "4    True  "
      ]
     },
     "execution_count": 36,
     "metadata": {},
     "output_type": "execute_result"
    }
   ],
   "source": [
    "#clean-up text data\n",
    "undf['text'] = undf.text.str.replace('\\ufeff','') # remove strange character\n",
    "undf['text'] = undf.text.str.strip() # eliminate whitespace from beginning and end\n",
    "\n",
    "undf.head()"
   ]
  },
  {
   "cell_type": "code",
   "execution_count": 37,
   "metadata": {},
   "outputs": [
    {
     "name": "stdout",
     "output_type": "stream",
     "text": [
      "2865.413747169309\n"
     ]
    }
   ],
   "source": [
    "#What is the average word count per speech?\n",
    "\n",
    "def helperfn2(text):\n",
    "    return len(text.split())\n",
    "\n",
    "#column with length (# of words) in speed text\n",
    "undf[\"wordCount\"] = undf['text'].apply(lambda txt: helperfn2(txt))\n",
    "\n",
    "print(undf.wordCount.mean())"
   ]
  },
  {
   "cell_type": "code",
   "execution_count": 38,
   "metadata": {},
   "outputs": [
    {
     "data": {
      "text/plain": [
       "MDV   -618.726238\n",
       "FIN   -832.292050\n",
       "NER    -23.447101\n",
       "URY    416.160607\n",
       "ZWE   -105.184114\n",
       "Name: CompareToAverage, dtype: float64"
      ]
     },
     "execution_count": 38,
     "metadata": {},
     "output_type": "execute_result"
    },
    {
     "data": {
      "image/png": "[encoded data removed]",
      "text/plain": [
       "<Figure size 432x288 with 1 Axes>"
      ]
     },
     "metadata": {},
     "output_type": "display_data"
    }
   ],
   "source": [
    "#How does that average word count compare across all of the countries' speeches?\n",
    "\n",
    "listOfUniqueCountries = undf.country.unique()\n",
    "\n",
    "dictOfUniqueCountryWC = {}\n",
    "\n",
    "def findAverageWC(tempDict):\n",
    "#this function returns a dictionary where keys are unique countries \n",
    "#and values are their average word count\n",
    "    \n",
    "    for uniqueCountry in listOfUniqueCountries:\n",
    "        \n",
    "        #focus on each unique country's data\n",
    "        tempDF = undf[undf.country == uniqueCountry]\n",
    "        \n",
    "        #word count already in undf\n",
    "        avgWC = tempDF.wordCount.mean()\n",
    "        \n",
    "        #create entry in dictionary\n",
    "        dictOfUniqueCountryWC[uniqueCountry] = avgWC\n",
    "\n",
    "#average ~2865 was found in cell above\n",
    "def compareToAverage(aNum):\n",
    "    return (aNum - 2865.4698281603837)\n",
    "     \n",
    "findAverageWC(dictOfUniqueCountryWC)\n",
    "wordCountData = pd.DataFrame.from_dict(dictOfUniqueCountryWC, orient='index', columns=[\"AverageWordCount\"])\n",
    "\n",
    "#Average word count is 2865.4698281603837\n",
    "wordCountData[\"CompareToAverage\"] = wordCountData['AverageWordCount'].apply(lambda avgWC: compareToAverage(avgWC))\n",
    "plotData = wordCountData[\"CompareToAverage\"]\n",
    "\n",
    "ax = plotData.plot.bar(x='Country', y='Distance From Average', rot=0)\n",
    "plotData.head()"
   ]
  },
  {
   "cell_type": "code",
   "execution_count": 39,
   "metadata": {},
   "outputs": [
    {
     "data": {
      "text/plain": [
       "<bound method NDFrame.head of MDV    -618.726238\n",
       "FIN    -832.292050\n",
       "NER     -23.447101\n",
       "URY     416.160607\n",
       "ZWE    -105.184114\n",
       "          ...     \n",
       "VAT    -601.315982\n",
       "MCO   -1047.904611\n",
       "CHE   -1321.826971\n",
       "KAZ    -710.636495\n",
       "SVN   -1240.969828\n",
       "Name: CompareToAverage, Length: 199, dtype: float64>"
      ]
     },
     "execution_count": 39,
     "metadata": {},
     "output_type": "execute_result"
    }
   ],
   "source": [
    "plotData.head"
   ]
  },
  {
   "cell_type": "code",
   "execution_count": 40,
   "metadata": {},
   "outputs": [
    {
     "data": {
      "text/html": [
       "<div>\n",
       "<style scoped>\n",
       "    .dataframe tbody tr th:only-of-type {\n",
       "        vertical-align: middle;\n",
       "    }\n",
       "\n",
       "    .dataframe tbody tr th {\n",
       "        vertical-align: top;\n",
       "    }\n",
       "\n",
       "    .dataframe thead th {\n",
       "        text-align: right;\n",
       "    }\n",
       "</style>\n",
       "<table border=\"1\" class=\"dataframe\">\n",
       "  <thead>\n",
       "    <tr style=\"text-align: right;\">\n",
       "      <th></th>\n",
       "      <th>session</th>\n",
       "      <th>year</th>\n",
       "      <th>country</th>\n",
       "      <th>text</th>\n",
       "      <th>Global</th>\n",
       "      <th>wordCount</th>\n",
       "      <th>peace</th>\n",
       "      <th>nuclear</th>\n",
       "      <th>terrorism</th>\n",
       "      <th>space</th>\n",
       "      <th>racism</th>\n",
       "      <th>equality</th>\n",
       "      <th>pandemic</th>\n",
       "      <th>happiness</th>\n",
       "      <th>HIV</th>\n",
       "      <th>warming</th>\n",
       "      <th>climate</th>\n",
       "    </tr>\n",
       "  </thead>\n",
       "  <tbody>\n",
       "    <tr>\n",
       "      <th>0</th>\n",
       "      <td>44</td>\n",
       "      <td>1989</td>\n",
       "      <td>MDV</td>\n",
       "      <td>it is indeed a pleasure for me and the members...</td>\n",
       "      <td>True</td>\n",
       "      <td>3011</td>\n",
       "      <td>15</td>\n",
       "      <td>0</td>\n",
       "      <td>3</td>\n",
       "      <td>0</td>\n",
       "      <td>0</td>\n",
       "      <td>2</td>\n",
       "      <td>0</td>\n",
       "      <td>0</td>\n",
       "      <td>0</td>\n",
       "      <td>1</td>\n",
       "      <td>0</td>\n",
       "    </tr>\n",
       "    <tr>\n",
       "      <th>1</th>\n",
       "      <td>44</td>\n",
       "      <td>1989</td>\n",
       "      <td>FIN</td>\n",
       "      <td>may i begin by congratulating you. sir, on you...</td>\n",
       "      <td>True</td>\n",
       "      <td>2726</td>\n",
       "      <td>15</td>\n",
       "      <td>0</td>\n",
       "      <td>0</td>\n",
       "      <td>0</td>\n",
       "      <td>0</td>\n",
       "      <td>0</td>\n",
       "      <td>0</td>\n",
       "      <td>0</td>\n",
       "      <td>0</td>\n",
       "      <td>0</td>\n",
       "      <td>1</td>\n",
       "    </tr>\n",
       "    <tr>\n",
       "      <th>2</th>\n",
       "      <td>44</td>\n",
       "      <td>1989</td>\n",
       "      <td>NER</td>\n",
       "      <td>mr. president, it is a particular pleasure for...</td>\n",
       "      <td>False</td>\n",
       "      <td>4859</td>\n",
       "      <td>27</td>\n",
       "      <td>0</td>\n",
       "      <td>3</td>\n",
       "      <td>0</td>\n",
       "      <td>0</td>\n",
       "      <td>3</td>\n",
       "      <td>0</td>\n",
       "      <td>1</td>\n",
       "      <td>0</td>\n",
       "      <td>0</td>\n",
       "      <td>0</td>\n",
       "    </tr>\n",
       "    <tr>\n",
       "      <th>3</th>\n",
       "      <td>44</td>\n",
       "      <td>1989</td>\n",
       "      <td>URY</td>\n",
       "      <td>during the debate at the fortieth session of t...</td>\n",
       "      <td>True</td>\n",
       "      <td>2710</td>\n",
       "      <td>16</td>\n",
       "      <td>0</td>\n",
       "      <td>2</td>\n",
       "      <td>0</td>\n",
       "      <td>1</td>\n",
       "      <td>2</td>\n",
       "      <td>0</td>\n",
       "      <td>0</td>\n",
       "      <td>0</td>\n",
       "      <td>0</td>\n",
       "      <td>0</td>\n",
       "    </tr>\n",
       "    <tr>\n",
       "      <th>4</th>\n",
       "      <td>44</td>\n",
       "      <td>1989</td>\n",
       "      <td>ZWE</td>\n",
       "      <td>i should like at the outset to express my dele...</td>\n",
       "      <td>True</td>\n",
       "      <td>4551</td>\n",
       "      <td>21</td>\n",
       "      <td>0</td>\n",
       "      <td>0</td>\n",
       "      <td>0</td>\n",
       "      <td>0</td>\n",
       "      <td>0</td>\n",
       "      <td>0</td>\n",
       "      <td>0</td>\n",
       "      <td>0</td>\n",
       "      <td>1</td>\n",
       "      <td>0</td>\n",
       "    </tr>\n",
       "  </tbody>\n",
       "</table>\n",
       "</div>"
      ],
      "text/plain": [
       "   session  year country                                               text  \\\n",
       "0       44  1989     MDV  it is indeed a pleasure for me and the members...   \n",
       "1       44  1989     FIN  may i begin by congratulating you. sir, on you...   \n",
       "2       44  1989     NER  mr. president, it is a particular pleasure for...   \n",
       "3       44  1989     URY  during the debate at the fortieth session of t...   \n",
       "4       44  1989     ZWE  i should like at the outset to express my dele...   \n",
       "\n",
       "   Global  wordCount  peace  nuclear  terrorism  space  racism  equality  \\\n",
       "0    True       3011     15        0          3      0       0         2   \n",
       "1    True       2726     15        0          0      0       0         0   \n",
       "2   False       4859     27        0          3      0       0         3   \n",
       "3    True       2710     16        0          2      0       1         2   \n",
       "4    True       4551     21        0          0      0       0         0   \n",
       "\n",
       "   pandemic  happiness  HIV  warming  climate  \n",
       "0         0          0    0        1        0  \n",
       "1         0          0    0        0        1  \n",
       "2         0          1    0        0        0  \n",
       "3         0          0    0        0        0  \n",
       "4         0          0    0        1        0  "
      ]
     },
     "execution_count": 40,
     "metadata": {},
     "output_type": "execute_result"
    }
   ],
   "source": [
    "#A list of topics that the UN might discuss and debate. \n",
    "\n",
    "#creates a copy of original df\n",
    "undf1 = undf.copy()\n",
    "\n",
    "\n",
    "listOfTopics = [\"peace\", \"nuclear war\", \"terrorism\", \"space travel\",\"racism\",\"equality\",\"pandemic\",\"happiness\", \"HIV\", \"global warming\",\"climate change\"]\n",
    "\n",
    "undf1[\"peace\"] = undf1.text.str.count(\"peace\")\n",
    "undf1[\"nuclear\"] = undf1.text.str.count(\"nuclear war\")\n",
    "undf1[\"terrorism\"] = undf1.text.str.count(\"terrorism\")\n",
    "undf1[\"space\"] = undf1.text.str.count(\"space travel\")\n",
    "#undf1[\"space\"] = undf1.text.str.count(\"space travel\"|\"moon landing\")\n",
    "undf1[\"racism\"] = undf1.text.str.count(\"racism\")\n",
    "undf1[\"equality\"] = undf1.text.str.count(\"equality\")\n",
    "undf1[\"pandemic\"] = undf1.text.str.count(\"pandemic\")\n",
    "undf1[\"happiness\"] = undf1.text.str.count(\"happiness\")\n",
    "undf1[\"HIV\"] = undf1.text.str.count(\"hiv\")\n",
    "undf1[\"warming\"] = undf1.text.str.count(\"global warming\")\n",
    "undf1[\"climate\"] = undf1.text.str.count(\"climate change\")\n",
    "\n",
    "undf1.head()"
   ]
  },
  {
   "cell_type": "code",
   "execution_count": 41,
   "metadata": {},
   "outputs": [
    {
     "data": {
      "image/png": "[encoded data removed]",
      "text/plain": [
       "<Figure size 1080x1080 with 1 Axes>"
      ]
     },
     "metadata": {},
     "output_type": "display_data"
    },
    {
     "data": {
      "text/plain": [
       "{'peace': 98830,\n",
       " 'nuclear war': 992,\n",
       " 'terrorism': 11749,\n",
       " 'space travel': 3,\n",
       " 'racism': 1914,\n",
       " 'equality': 5378,\n",
       " 'pandemic': 565,\n",
       " 'happiness': 591,\n",
       " 'HIV': 1406,\n",
       " 'global warming': 440,\n",
       " 'climate change': 4556}"
      ]
     },
     "execution_count": 41,
     "metadata": {},
     "output_type": "execute_result"
    }
   ],
   "source": [
    "#Graph to show how often these topics were mentioned. \n",
    "\n",
    "sumofpeace = undf1.peace.sum()\n",
    "sumofnuclearwar = undf1.nuclear.sum()\n",
    "sumofterrorism = undf1.terrorism.sum()\n",
    "sumofspacetravel = undf1.space.sum()\n",
    "sumofracism = undf1.racism.sum().sum()\n",
    "sumofequality = undf1.equality.sum()\n",
    "sumofpandemic = undf1.pandemic.sum()\n",
    "sumofhappiness = undf1.happiness.sum()\n",
    "sumofhiv = undf1.HIV.sum()\n",
    "sumofwarming = undf1.warming.sum()\n",
    "sumofcchange = undf1.climate.sum()\n",
    "\n",
    "explode = (0.1,0.1,0.1,0.1,0.1,0.1,0.1,0.1,0.1,0.1,0.1)\n",
    "listofFreqs = [sumofpeace,sumofnuclearwar,sumofterrorism,sumofspacetravel,sumofracism,sumofequality,sumofpandemic,sumofhappiness,sumofhiv,sumofwarming,sumofcchange]\n",
    "\n",
    "# using zip() to convert 2 lists to a dictionary \n",
    "topicDataOverall = dict(zip(listOfTopics, listofFreqs)) \n",
    "\n",
    "colors=[\"#c40037\",\"#9e1675\",\"#8380cc\",\"#65e673\",\"#3dcd86\",\"#4e1e1c\",\"#e57a9f\",\"#f77add\",\"#4919b1\",\"#1cb1ef\",\"#7a6da1\"]\n",
    "\n",
    "fig, ax = plt.subplots(figsize=(15, 15), subplot_kw=dict(aspect=\"equal\") )\n",
    "plt.pie([val for val in topicDataOverall.values()],shadow=True,explode=explode,labels=[keys for keys in topicDataOverall.keys()],labeldistance=None,colors=colors)\n",
    "plt.legend(labels=topicDataOverall, loc=\"upper left\")\n",
    "plt.show()\n",
    "\n",
    "topicDataOverall"
   ]
  },
  {
   "cell_type": "code",
   "execution_count": 42,
   "metadata": {},
   "outputs": [
    {
     "data": {
      "text/plain": [
       "array([1989, 1970, 2013, 1985, 2008, 1991, 1986, 2002, 1975, 1996, 2012,\n",
       "       1997, 1978, 1988, 2010, 1984, 1995, 2009, 1971, 1976, 1983, 1979,\n",
       "       1999, 2005, 1987, 1982, 1998, 2003, 2004, 1980, 2014, 2011, 1974,\n",
       "       2015, 1993, 1977, 1981, 2000, 1992, 1990, 1973, 1994, 1972, 2006,\n",
       "       2007, 2001])"
      ]
     },
     "execution_count": 42,
     "metadata": {},
     "output_type": "execute_result"
    }
   ],
   "source": [
    "listOfUniqueYears = undf1.year.unique()\n",
    "\n",
    "listOfUniqueYears"
   ]
  },
  {
   "cell_type": "code",
   "execution_count": 43,
   "metadata": {},
   "outputs": [],
   "source": [
    "#8.4.1 6)\n",
    "\n",
    "#a. Make a graph to show the frequency with which various topics are discussed over the years. \n",
    "\n",
    "#The following uses the same topics as above\n",
    "\n",
    "def countTopicinYears(tempDict):\n",
    "    for uniqueYear in listOfUniqueYears:\n",
    "        tempDict = {}\n",
    "        \n",
    "        #focus on each unique year as a df\n",
    "        tempDF = undf1[undf1.year == uniqueYear]\n",
    "\n",
    "        tempDict[\"peace\"] = tempDF.peace.sum()\n",
    "        tempDict[\"nuclear\"] = tempDF.nuclear.sum()\n",
    "        tempDict[\"terrorism\"] = tempDF.terrorism.sum()\n",
    "        tempDict[\"space\"] = tempDF.space.sum()\n",
    "        tempDict[\"racism\"] = tempDF.racism.sum()\n",
    "        tempDict[\"equality\"] = tempDF.equality.sum()\n",
    "        tempDict[\"pandemic\"] = tempDF.pandemic.sum()\n",
    "        tempDict[\"happiness\"] = tempDF.happiness.sum()\n",
    "        tempDict[\"HIV\"] = tempDF.HIV.sum()\n",
    "        tempDict[\"warming\"] = tempDF.warming.sum()\n",
    "        tempDict[\"climate\"] = tempDF.climate.sum()\n",
    "        \n",
    "        dict_of_year_data[uniqueYear] = tempDict\n",
    "   \n"
   ]
  },
  {
   "cell_type": "code",
   "execution_count": 44,
   "metadata": {},
   "outputs": [],
   "source": [
    "dict_of_year_data = {}\n",
    "countTopicinYears(dict_of_year_data)"
   ]
  },
  {
   "cell_type": "code",
   "execution_count": 45,
   "metadata": {},
   "outputs": [
    {
     "data": {
      "text/html": [
       "<div>\n",
       "<style scoped>\n",
       "    .dataframe tbody tr th:only-of-type {\n",
       "        vertical-align: middle;\n",
       "    }\n",
       "\n",
       "    .dataframe tbody tr th {\n",
       "        vertical-align: top;\n",
       "    }\n",
       "\n",
       "    .dataframe thead th {\n",
       "        text-align: right;\n",
       "    }\n",
       "</style>\n",
       "<table border=\"1\" class=\"dataframe\">\n",
       "  <thead>\n",
       "    <tr style=\"text-align: right;\">\n",
       "      <th></th>\n",
       "      <th>peace</th>\n",
       "      <th>nuclear</th>\n",
       "      <th>terrorism</th>\n",
       "      <th>space</th>\n",
       "      <th>racism</th>\n",
       "      <th>equality</th>\n",
       "      <th>pandemic</th>\n",
       "      <th>happiness</th>\n",
       "      <th>HIV</th>\n",
       "      <th>warming</th>\n",
       "      <th>climate</th>\n",
       "    </tr>\n",
       "  </thead>\n",
       "  <tbody>\n",
       "    <tr>\n",
       "      <th>1970</th>\n",
       "      <td>1297</td>\n",
       "      <td>6</td>\n",
       "      <td>7</td>\n",
       "      <td>0</td>\n",
       "      <td>24</td>\n",
       "      <td>65</td>\n",
       "      <td>0</td>\n",
       "      <td>8</td>\n",
       "      <td>2</td>\n",
       "      <td>0</td>\n",
       "      <td>0</td>\n",
       "    </tr>\n",
       "    <tr>\n",
       "      <th>1971</th>\n",
       "      <td>1820</td>\n",
       "      <td>21</td>\n",
       "      <td>9</td>\n",
       "      <td>0</td>\n",
       "      <td>53</td>\n",
       "      <td>101</td>\n",
       "      <td>0</td>\n",
       "      <td>27</td>\n",
       "      <td>1</td>\n",
       "      <td>0</td>\n",
       "      <td>0</td>\n",
       "    </tr>\n",
       "    <tr>\n",
       "      <th>1972</th>\n",
       "      <td>1895</td>\n",
       "      <td>21</td>\n",
       "      <td>382</td>\n",
       "      <td>0</td>\n",
       "      <td>82</td>\n",
       "      <td>107</td>\n",
       "      <td>0</td>\n",
       "      <td>22</td>\n",
       "      <td>3</td>\n",
       "      <td>0</td>\n",
       "      <td>0</td>\n",
       "    </tr>\n",
       "    <tr>\n",
       "      <th>1973</th>\n",
       "      <td>2054</td>\n",
       "      <td>53</td>\n",
       "      <td>125</td>\n",
       "      <td>0</td>\n",
       "      <td>89</td>\n",
       "      <td>110</td>\n",
       "      <td>0</td>\n",
       "      <td>18</td>\n",
       "      <td>4</td>\n",
       "      <td>0</td>\n",
       "      <td>1</td>\n",
       "    </tr>\n",
       "    <tr>\n",
       "      <th>1974</th>\n",
       "      <td>1935</td>\n",
       "      <td>21</td>\n",
       "      <td>24</td>\n",
       "      <td>0</td>\n",
       "      <td>67</td>\n",
       "      <td>143</td>\n",
       "      <td>0</td>\n",
       "      <td>15</td>\n",
       "      <td>4</td>\n",
       "      <td>0</td>\n",
       "      <td>0</td>\n",
       "    </tr>\n",
       "  </tbody>\n",
       "</table>\n",
       "</div>"
      ],
      "text/plain": [
       "      peace  nuclear  terrorism  space  racism  equality  pandemic  happiness  \\\n",
       "1970   1297        6          7      0      24        65         0          8   \n",
       "1971   1820       21          9      0      53       101         0         27   \n",
       "1972   1895       21        382      0      82       107         0         22   \n",
       "1973   2054       53        125      0      89       110         0         18   \n",
       "1974   1935       21         24      0      67       143         0         15   \n",
       "\n",
       "      HIV  warming  climate  \n",
       "1970    2        0        0  \n",
       "1971    1        0        0  \n",
       "1972    3        0        0  \n",
       "1973    4        0        1  \n",
       "1974    4        0        0  "
      ]
     },
     "execution_count": 45,
     "metadata": {},
     "output_type": "execute_result"
    }
   ],
   "source": [
    "yearTopicData = pd.DataFrame.from_dict(dict_of_year_data, orient='index', columns=['peace','nuclear','terrorism','space','racism','equality','pandemic','happiness','HIV','warming','climate'])\n",
    "\n",
    "#sort by year, where year is index\n",
    "yearTopicData = yearTopicData.sort_index()\n",
    "yearTopicData.head()"
   ]
  },
  {
   "cell_type": "code",
   "execution_count": 46,
   "metadata": {},
   "outputs": [
    {
     "data": {
      "text/plain": [
       "<matplotlib.axes._subplots.AxesSubplot at 0x176f35a30>"
      ]
     },
     "execution_count": 46,
     "metadata": {},
     "output_type": "execute_result"
    },
    {
     "data": {
      "image/png": "[encoded data removed]",
      "text/plain": [
       "<Figure size 432x288 with 1 Axes>"
      ]
     },
     "metadata": {},
     "output_type": "display_data"
    }
   ],
   "source": [
    "#line graphs showing changes in total word frequencies within all speeches accross the years\n",
    "\n",
    "yearTopicData['peace'].plot(x=\"Year\", y=[\"Count\"], kind=\"line\",legend=True)\n"
   ]
  },
  {
   "cell_type": "code",
   "execution_count": 47,
   "metadata": {},
   "outputs": [
    {
     "data": {
      "text/plain": [
       "<matplotlib.axes._subplots.AxesSubplot at 0x12cb7f340>"
      ]
     },
     "execution_count": 47,
     "metadata": {},
     "output_type": "execute_result"
    },
    {
     "data": {
      "image/png": "[encoded data removed]",
      "text/plain": [
       "<Figure size 432x288 with 1 Axes>"
      ]
     },
     "metadata": {},
     "output_type": "display_data"
    }
   ],
   "source": [
    "yearTopicData['nuclear'].plot(x=\"Year\", y=[\"Count\"], kind=\"line\",legend=True)"
   ]
  },
  {
   "cell_type": "code",
   "execution_count": 48,
   "metadata": {},
   "outputs": [
    {
     "data": {
      "text/plain": [
       "<matplotlib.axes._subplots.AxesSubplot at 0x17707cb80>"
      ]
     },
     "execution_count": 48,
     "metadata": {},
     "output_type": "execute_result"
    },
    {
     "data": {
      "image/png": "[encoded data removed]",
      "text/plain": [
       "<Figure size 432x288 with 1 Axes>"
      ]
     },
     "metadata": {},
     "output_type": "display_data"
    }
   ],
   "source": [
    "yearTopicData['terrorism'].plot(x=\"Year\", y=[\"Count\"], kind=\"line\",legend=True)"
   ]
  },
  {
   "cell_type": "code",
   "execution_count": 49,
   "metadata": {},
   "outputs": [
    {
     "data": {
      "text/plain": [
       "<matplotlib.axes._subplots.AxesSubplot at 0x1770863a0>"
      ]
     },
     "execution_count": 49,
     "metadata": {},
     "output_type": "execute_result"
    },
    {
     "data": {
      "image/png": "[encoded data removed]",
      "text/plain": [
       "<Figure size 432x288 with 1 Axes>"
      ]
     },
     "metadata": {},
     "output_type": "display_data"
    }
   ],
   "source": [
    "yearTopicData['space'].plot(x=\"Year\", y=[\"Count\"], kind=\"line\",legend=True)"
   ]
  },
  {
   "cell_type": "code",
   "execution_count": 50,
   "metadata": {},
   "outputs": [
    {
     "data": {
      "text/plain": [
       "<matplotlib.axes._subplots.AxesSubplot at 0x177421550>"
      ]
     },
     "execution_count": 50,
     "metadata": {},
     "output_type": "execute_result"
    },
    {
     "data": {
      "image/png": "[encoded data removed]",
      "text/plain": [
       "<Figure size 432x288 with 1 Axes>"
      ]
     },
     "metadata": {},
     "output_type": "display_data"
    }
   ],
   "source": [
    "yearTopicData['racism'].plot(x=\"Year\", y=[\"Count\"], kind=\"line\",legend=True)"
   ]
  },
  {
   "cell_type": "code",
   "execution_count": 51,
   "metadata": {},
   "outputs": [
    {
     "data": {
      "text/plain": [
       "<matplotlib.axes._subplots.AxesSubplot at 0x1775364c0>"
      ]
     },
     "execution_count": 51,
     "metadata": {},
     "output_type": "execute_result"
    },
    {
     "data": {
      "image/png": "[encoded data removed]",
      "text/plain": [
       "<Figure size 432x288 with 1 Axes>"
      ]
     },
     "metadata": {},
     "output_type": "display_data"
    }
   ],
   "source": [
    "yearTopicData['equality'].plot(x=\"Year\", y=[\"Count\"], kind=\"line\",legend=True)"
   ]
  },
  {
   "cell_type": "code",
   "execution_count": 52,
   "metadata": {},
   "outputs": [
    {
     "data": {
      "text/plain": [
       "<matplotlib.axes._subplots.AxesSubplot at 0x1776c5b50>"
      ]
     },
     "execution_count": 52,
     "metadata": {},
     "output_type": "execute_result"
    },
    {
     "data": {
      "image/png": "[encoded data removed]",
      "text/plain": [
       "<Figure size 432x288 with 1 Axes>"
      ]
     },
     "metadata": {},
     "output_type": "display_data"
    }
   ],
   "source": [
    "yearTopicData['pandemic'].plot(x=\"Year\", y=[\"Count\"], kind=\"line\",legend=True)"
   ]
  },
  {
   "cell_type": "code",
   "execution_count": 53,
   "metadata": {},
   "outputs": [
    {
     "data": {
      "text/plain": [
       "<matplotlib.axes._subplots.AxesSubplot at 0x1776bf640>"
      ]
     },
     "execution_count": 53,
     "metadata": {},
     "output_type": "execute_result"
    },
    {
     "data": {
      "image/png": "[encoded data removed]",
      "text/plain": [
       "<Figure size 432x288 with 1 Axes>"
      ]
     },
     "metadata": {},
     "output_type": "display_data"
    }
   ],
   "source": [
    "yearTopicData['happiness'].plot(x=\"Year\", y=[\"Count\"], kind=\"line\",legend=True)"
   ]
  },
  {
   "cell_type": "code",
   "execution_count": 54,
   "metadata": {},
   "outputs": [
    {
     "data": {
      "text/plain": [
       "<matplotlib.axes._subplots.AxesSubplot at 0x17782cc40>"
      ]
     },
     "execution_count": 54,
     "metadata": {},
     "output_type": "execute_result"
    },
    {
     "data": {
      "image/png": "[encoded data removed]",
      "text/plain": [
       "<Figure size 432x288 with 1 Axes>"
      ]
     },
     "metadata": {},
     "output_type": "display_data"
    }
   ],
   "source": [
    "#What about ‘HIV’ or ‘terrorism’ or ‘global warming’.\n",
    "yearTopicData['HIV'].plot(x=\"Year\", y=[\"Count\"], kind=\"line\",legend=True)\n",
    "yearTopicData['terrorism'].plot(x=\"Year\", y=[\"Count\"], kind=\"line\",legend=True)"
   ]
  },
  {
   "cell_type": "code",
   "execution_count": 55,
   "metadata": {},
   "outputs": [
    {
     "data": {
      "text/plain": [
       "<matplotlib.axes._subplots.AxesSubplot at 0x1778f15e0>"
      ]
     },
     "execution_count": 55,
     "metadata": {},
     "output_type": "execute_result"
    },
    {
     "data": {
      "image/png": "[encoded data removed]",
      "text/plain": [
       "<Figure size 432x288 with 1 Axes>"
      ]
     },
     "metadata": {},
     "output_type": "display_data"
    }
   ],
   "source": [
    "#Comparing two phrases like ‘global warming’ and ‘climate change’.\n",
    "yearTopicData['warming'].plot(x=\"Year\", y=[\"Count\"], kind=\"line\",legend=True)\n",
    "yearTopicData['climate'].plot(x=\"Year\", y=[\"Count\"], kind=\"line\",legend=True)"
   ]
  },
  {
   "cell_type": "code",
   "execution_count": 56,
   "metadata": {},
   "outputs": [],
   "source": [
    "from nltk import tokenize\n",
    "from nltk.sentiment.vader import SentimentIntensityAnalyzer\n",
    "analyzer = SentimentIntensityAnalyzer()\n",
    "\n",
    "def score_text(text):\n",
    "    sentence_list = tokenize.sent_tokenize(text)\n",
    "    cscore = 0.0\n",
    "    for sent in sentence_list:\n",
    "        ss = analyzer.polarity_scores(sent)['compound']\n",
    "        cscore += ss\n",
    "    return cscore / len(sentence_list)"
   ]
  },
  {
   "cell_type": "code",
   "execution_count": 57,
   "metadata": {},
   "outputs": [
    {
     "data": {
      "text/plain": [
       "-0.5423"
      ]
     },
     "execution_count": 57,
     "metadata": {},
     "output_type": "execute_result"
    }
   ],
   "source": [
    "score_text(\"This movie is horrible\")"
   ]
  },
  {
   "cell_type": "code",
   "execution_count": 58,
   "metadata": {},
   "outputs": [
    {
     "data": {
      "text/plain": [
       "0.802"
      ]
     },
     "execution_count": 58,
     "metadata": {},
     "output_type": "execute_result"
    }
   ],
   "source": [
    "score_text(\"I love cute puppies\")"
   ]
  },
  {
   "cell_type": "code",
   "execution_count": 59,
   "metadata": {},
   "outputs": [],
   "source": [
    "undf['sentiment'] = undf.text.map(lambda t : score_text(t))"
   ]
  },
  {
   "cell_type": "code",
   "execution_count": 60,
   "metadata": {},
   "outputs": [
    {
     "data": {
      "text/html": [
       "\n",
       "<div id=\"altair-viz-300c12bfa0d942c58e55a2722751db5c\"></div>\n",
       "<script type=\"text/javascript\">\n",
       "  (function(spec, embedOpt){\n",
       "    const outputDiv = document.getElementById(\"altair-viz-300c12bfa0d942c58e55a2722751db5c\");\n",
       "    const paths = {\n",
       "      \"vega\": \"https://cdn.jsdelivr.net/npm//vega@5?noext\",\n",
       "      \"vega-lib\": \"https://cdn.jsdelivr.net/npm//vega-lib?noext\",\n",
       "      \"vega-lite\": \"https://cdn.jsdelivr.net/npm//vega-lite@4.0.2?noext\",\n",
       "      \"vega-embed\": \"https://cdn.jsdelivr.net/npm//vega-embed@6?noext\",\n",
       "    };\n",
       "\n",
       "    function loadScript(lib) {\n",
       "      return new Promise(function(resolve, reject) {\n",
       "        var s = document.createElement('script');\n",
       "        s.src = paths[lib];\n",
       "        s.async = true;\n",
       "        s.onload = () => resolve(paths[lib]);\n",
       "        s.onerror = () => reject(`Error loading script: ${paths[lib]}`);\n",
       "        document.getElementsByTagName(\"head\")[0].appendChild(s);\n",
       "      });\n",
       "    }\n",
       "\n",
       "    function showError(err) {\n",
       "      outputDiv.innerHTML = `<div class=\"error\" style=\"color:red;\">${err}</div>`;\n",
       "      throw err;\n",
       "    }\n",
       "\n",
       "    function displayChart(vegaEmbed) {\n",
       "      vegaEmbed(outputDiv, spec, embedOpt)\n",
       "        .catch(err => showError(`Javascript Error: ${err.message}<br>This usually means there's a typo in your chart specification. See the javascript console for the full traceback.`));\n",
       "    }\n",
       "\n",
       "    if(typeof define === \"function\" && define.amd) {\n",
       "      requirejs.config({paths});\n",
       "      require([\"vega-embed\"], displayChart, err => showError(`Error loading script: ${err.message}`));\n",
       "    } else if (typeof vegaEmbed === \"function\") {\n",
       "      displayChart(vegaEmbed);\n",
       "    } else {\n",
       "      loadScript(\"vega\")\n",
       "        .then(() => loadScript(\"vega-lite\"))\n",
       "        .then(() => loadScript(\"vega-embed\"))\n",
       "        .catch(showError)\n",
       "        .then(() => displayChart(vegaEmbed));\n",
       "    }\n",
       "  })({\"config\": {\"view\": {\"continuousWidth\": 400, \"continuousHeight\": 300}}, \"data\": {\"url\": \"altair-data-f26871a961d36a539ff370ac1effe15a.json\", \"format\": {\"type\": \"json\"}}, \"mark\": \"bar\", \"encoding\": {\"x\": {\"type\": \"quantitative\", \"bin\": true, \"field\": \"sentiment\"}, \"y\": {\"type\": \"quantitative\", \"aggregate\": \"count\"}}, \"$schema\": \"https://vega.github.io/schema/vega-lite/v4.0.2.json\"}, {\"mode\": \"vega-lite\"});\n",
       "</script>"
      ],
      "text/plain": [
       "alt.Chart(...)"
      ]
     },
     "execution_count": 60,
     "metadata": {},
     "output_type": "execute_result"
    }
   ],
   "source": [
    "alt.data_transformers.enable('json')\n",
    "alt.Chart(undf).mark_bar().encode(x=X('sentiment', bin=True), y='count()')"
   ]
  },
  {
   "cell_type": "code",
   "execution_count": 61,
   "metadata": {},
   "outputs": [
    {
     "data": {
      "text/plain": [
       "count    199.000000\n",
       "mean       0.242241\n",
       "std        0.058146\n",
       "min        0.066121\n",
       "25%        0.211212\n",
       "50%        0.237993\n",
       "75%        0.279126\n",
       "max        0.491167\n",
       "Name: sentiment, dtype: float64"
      ]
     },
     "execution_count": 61,
     "metadata": {},
     "output_type": "execute_result"
    }
   ],
   "source": [
    "#Which countries are the most positive or negative in their speeches throughout the years?\n",
    "\n",
    "#group by country\n",
    "uniqueCountries = undf.groupby(['country'])\n",
    "\n",
    "#find average sentiment of text for each country\n",
    "avgSentiment = uniqueCountries['sentiment'].mean()\n",
    "\n",
    "#max and min of the series defined above\n",
    "avgSentiment.describe()"
   ]
  },
  {
   "cell_type": "code",
   "execution_count": 62,
   "metadata": {},
   "outputs": [],
   "source": [
    "#find country code for max and min\n",
    "countryWithMaxSentiment = avgSentiment.idxmax()\n",
    "countryWithMinSentiment = avgSentiment.idxmin()"
   ]
  },
  {
   "cell_type": "code",
   "execution_count": 63,
   "metadata": {},
   "outputs": [
    {
     "name": "stdout",
     "output_type": "stream",
     "text": [
      "Country with the max avg sentiment throughout the years is MNE with an avg ss of 0.491167\n",
      "Country with the min avg sentiment throughout the years is CUB with an avg ss of 0.066121\n"
     ]
    }
   ],
   "source": [
    "\n",
    "#check values match describe function above \n",
    "print(\"Country with the max avg sentiment throughout the years is %s with an avg ss of %f\"%(countryWithMaxSentiment,avgSentiment[countryWithMaxSentiment]))\n",
    "print(\"Country with the min avg sentiment throughout the years is %s with an avg ss of %f\"%(countryWithMinSentiment,avgSentiment[countryWithMinSentiment]))"
   ]
  },
  {
   "cell_type": "code",
   "execution_count": 64,
   "metadata": {},
   "outputs": [
    {
     "data": {
      "text/plain": [
       "<matplotlib.axes._subplots.AxesSubplot at 0x1780fb820>"
      ]
     },
     "execution_count": 64,
     "metadata": {},
     "output_type": "execute_result"
    },
    {
     "data": {
      "image/png": "[encoded data removed]",
      "text/plain": [
       "<Figure size 432x288 with 1 Axes>"
      ]
     },
     "metadata": {},
     "output_type": "display_data"
    }
   ],
   "source": [
    "#Are there trends in positivity or negativity of speeches throughout the years?\n",
    "\n",
    "#similar procedure as the previous question, except focusing on year rather than country\n",
    "\n",
    "#group by year\n",
    "uniqueYear = undf.groupby(['year'])\n",
    "\n",
    "#find average sentiment of text for each year\n",
    "avgSentimentbyYear = uniqueYear['sentiment'].mean()\n",
    "\n",
    "#max and min of the series defined above\n",
    "\n",
    "avgSentimentbyYear.plot(x=\"Year\", y=[\"Average Sentiment\"], kind=\"line\",legend=True)"
   ]
  },
  {
   "cell_type": "code",
   "execution_count": 65,
   "metadata": {},
   "outputs": [
    {
     "data": {
      "text/plain": [
       "count    46.000000\n",
       "mean      0.237759\n",
       "std       0.040571\n",
       "min       0.148770\n",
       "25%       0.218406\n",
       "50%       0.236318\n",
       "75%       0.266871\n",
       "max       0.318664\n",
       "Name: sentiment, dtype: float64"
      ]
     },
     "execution_count": 65,
     "metadata": {},
     "output_type": "execute_result"
    }
   ],
   "source": [
    "avgSentimentbyYear.describe()"
   ]
  },
  {
   "cell_type": "markdown",
   "metadata": {},
   "source": [
    "The average sentiment scores accross every decade is positive. However, from the graph above \n",
    "it is evident that the speeches started to have a slightly less positive sentiment from the 70's through 80's.\n",
    "Also, from the early 80's through late 90's, the sentiment of speeches show an increase in overall sentiment score.\n",
    "From 2000 onwards, there speeches have, overall, a less positive sentiment score than the previous decade.\n"
   ]
  },
  {
   "cell_type": "markdown",
   "metadata": {},
   "source": [
    "end."
   ]
  }
 ],
 "metadata": {
  "kernelspec": {
   "display_name": "Python 3",
   "language": "python",
   "name": "python3"
  },
  "language_info": {
   "codemirror_mode": {
    "name": "ipython",
    "version": 3
   },
   "file_extension": ".py",
   "mimetype": "text/x-python",
   "name": "python",
   "nbconvert_exporter": "python",
   "pygments_lexer": "ipython3",
   "version": "3.8.1"
  }
 },
 "nbformat": 4,
 "nbformat_minor": 4
}
